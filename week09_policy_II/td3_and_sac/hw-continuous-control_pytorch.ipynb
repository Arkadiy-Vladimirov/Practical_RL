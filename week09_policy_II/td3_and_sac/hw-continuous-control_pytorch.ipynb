{
 "cells": [
  {
   "cell_type": "code",
   "execution_count": 1,
   "metadata": {
    "execution": {
     "iopub.execute_input": "2024-05-04T15:40:24.601903Z",
     "iopub.status.busy": "2024-05-04T15:40:24.601139Z",
     "iopub.status.idle": "2024-05-04T15:40:24.694687Z",
     "shell.execute_reply": "2024-05-04T15:40:24.693894Z",
     "shell.execute_reply.started": "2024-05-04T15:40:24.601855Z"
    },
    "tags": []
   },
   "outputs": [],
   "source": [
    "import sys, os\n",
    "if 'google.colab' in sys.modules and not os.path.exists('.setup_complete'):\n",
    "    !wget -q https://raw.githubusercontent.com/yandexdataschool/Practical_RL/master/setup_colab.sh -O- | bash\n",
    "\n",
    "    !wget -q https://raw.githubusercontent.com/yandexdataschool/Practical_RL/master/week09_policy_II/td3_and_sac/logger.py\n",
    "\n",
    "    !pip -q install gymnasium[mujoco]\n",
    "    !pip -q install tensorboardX\n",
    "\n",
    "    !touch .setup_complete\n",
    "\n",
    "# This code creates a virtual display to draw game images on.\n",
    "# It will have no effect if your machine has a monitor.\n",
    "if type(os.environ.get(\"DISPLAY\")) is not str or len(os.environ.get(\"DISPLAY\")) == 0:\n",
    "    !bash ../../xvfb start\n",
    "    os.environ['DISPLAY'] = ':1'"
   ]
  },
  {
   "cell_type": "code",
   "execution_count": 2,
   "metadata": {
    "execution": {
     "iopub.execute_input": "2024-05-04T15:40:29.828276Z",
     "iopub.status.busy": "2024-05-04T15:40:29.827449Z",
     "iopub.status.idle": "2024-05-04T15:40:39.122138Z",
     "shell.execute_reply": "2024-05-04T15:40:39.121421Z",
     "shell.execute_reply.started": "2024-05-04T15:40:29.828237Z"
    },
    "tags": []
   },
   "outputs": [
    {
     "name": "stdout",
     "output_type": "stream",
     "text": [
      "\n",
      "\u001b[1m[\u001b[0m\u001b[34;49mnotice\u001b[0m\u001b[1;39;49m]\u001b[0m\u001b[39;49m A new release of pip is available: \u001b[0m\u001b[31;49m23.0.1\u001b[0m\u001b[39;49m -> \u001b[0m\u001b[32;49m24.0\u001b[0m\n",
      "\u001b[1m[\u001b[0m\u001b[34;49mnotice\u001b[0m\u001b[1;39;49m]\u001b[0m\u001b[39;49m To update, run: \u001b[0m\u001b[32;49mpython3 -m pip install --upgrade pip\u001b[0m\n",
      "\n",
      "\u001b[1m[\u001b[0m\u001b[34;49mnotice\u001b[0m\u001b[1;39;49m]\u001b[0m\u001b[39;49m A new release of pip is available: \u001b[0m\u001b[31;49m23.0.1\u001b[0m\u001b[39;49m -> \u001b[0m\u001b[32;49m24.0\u001b[0m\n",
      "\u001b[1m[\u001b[0m\u001b[34;49mnotice\u001b[0m\u001b[1;39;49m]\u001b[0m\u001b[39;49m To update, run: \u001b[0m\u001b[32;49mpython3 -m pip install --upgrade pip\u001b[0m\n"
     ]
    }
   ],
   "source": [
    "# in datasphere\n",
    "%pip -q install gymnasium[mujoco]\n",
    "%pip -q install tensorboardX"
   ]
  },
  {
   "cell_type": "markdown",
   "metadata": {},
   "source": [
    "# Continuous Control\n",
    "\n",
    "\n",
    "In this notebook you will solve continuous control environment using either [Twin Delayed DDPG (TD3)](https://arxiv.org/pdf/1802.09477.pdf) or [Soft Actor-Critic (SAC)](https://arxiv.org/pdf/1801.01290.pdf). Both are off-policy algorithms that are current go-to algorithms for continuous control tasks.\n",
    "\n",
    "**Select one** of these two algorithms (TD3 or SAC) to implement. Both algorithms are extensions of basic [Deep Deterministic Policy Gradient (DDPG)](https://arxiv.org/abs/1509.02971) algorithm, and DDPG is kind of \"DQN with another neural net approximating greedy policy\", and all that differs is a set of stabilization tricks:\n",
    "* TD3 trains deterministic policy, while SAC uses *stochastic policy*. This means that for SAC you can solve exploration-exploitation trade-off by simple sampling from policy, while in TD3 you will have to add noise to your actions.\n",
    "* TD3 proposes to stabilize targets by adding a *clipped noise* to actions, which slightly prevents overestimation. In SAC, we formally switch to formalism of Maximum Entropy RL and add *entropy bonus* into our value function.\n",
    "\n",
    "Also both algorithms utilize a *twin trick*: train two critics and use pessimistic targets by taking minimum from two proposals. Standard trick with target networks is also necessary. We will go through all these tricks step-by-step.\n",
    "\n",
    "SAC is probably less clumsy scheme than TD3, but requires a bit more code to implement. More detailed description of algorithms can be found in Spinning Up documentation:\n",
    "* on [DDPG](https://spinningup.openai.com/en/latest/algorithms/ddpg.html)\n",
    "* on [TD3](https://spinningup.openai.com/en/latest/algorithms/td3.html)\n",
    "* on [SAC](https://spinningup.openai.com/en/latest/algorithms/sac.html)"
   ]
  },
  {
   "cell_type": "markdown",
   "metadata": {},
   "source": [
    "## Environment"
   ]
  },
  {
   "cell_type": "code",
   "execution_count": 5,
   "metadata": {
    "execution": {
     "iopub.execute_input": "2024-05-04T15:40:39.123876Z",
     "iopub.status.busy": "2024-05-04T15:40:39.123489Z",
     "iopub.status.idle": "2024-05-04T15:40:40.268224Z",
     "shell.execute_reply": "2024-05-04T15:40:40.267499Z",
     "shell.execute_reply.started": "2024-05-04T15:40:39.123839Z"
    },
    "tags": []
   },
   "outputs": [],
   "source": [
    "import gymnasium as gym\n",
    "import numpy as np"
   ]
  },
  {
   "cell_type": "markdown",
   "metadata": {},
   "source": [
    "First, we will create an instance of the environment."
   ]
  },
  {
   "cell_type": "code",
   "execution_count": 4,
   "metadata": {
    "ExecuteTime": {
     "end_time": "2020-09-16T18:41:00.003174Z",
     "start_time": "2020-09-16T18:40:59.921640Z"
    },
    "execution": {
     "iopub.execute_input": "2024-05-04T15:40:40.269932Z",
     "iopub.status.busy": "2024-05-04T15:40:40.269520Z",
     "iopub.status.idle": "2024-05-04T15:40:40.537276Z",
     "shell.execute_reply": "2024-05-04T15:40:40.536671Z",
     "shell.execute_reply.started": "2024-05-04T15:40:40.269903Z"
    },
    "tags": []
   },
   "outputs": [
    {
     "name": "stderr",
     "output_type": "stream",
     "text": [
      "/kernel/lib/python3.10/site-packages/ipykernel/ipkernel.py:283: DeprecationWarning: `should_run_async` will not call `transform_cell` automatically in the future. Please pass the result to `transformed_cell` argument and any exception that happen during thetransform in `preprocessing_exc_tuple` in IPython 7.17 and above.\n",
      "  and should_run_async(code)\n"
     ]
    },
    {
     "name": "stdout",
     "output_type": "stream",
     "text": [
      "observation space:  Box(-inf, inf, (27,), float64) \n",
      "observations: [ 0.83114369  0.99284615  0.06177068  0.07004935  0.0743908   0.08116205\n",
      " -0.02185254 -0.01105408 -0.07682864 -0.08016159 -0.01568825  0.07353965\n",
      "  0.03087017 -0.07940711 -0.09943984  0.10287089  0.11755015  0.01726927\n",
      "  0.03348727 -0.11995557 -0.04173737 -0.13572624  0.22365714 -0.04446761\n",
      " -0.10630129 -0.05961107  0.11388347]\n",
      "action space:  Box(-1.0, 1.0, (8,), float32) \n",
      "action_sample:  [ 0.7024731   0.52976865 -0.591023   -0.02049428 -0.47039294  0.20231088\n",
      " -0.7916469  -0.11340988]\n"
     ]
    }
   ],
   "source": [
    "env = gym.make(\"Ant-v4\", render_mode=\"rgb_array\")\n",
    "\n",
    "# we want to look inside\n",
    "env.reset()\n",
    "\n",
    "# examples of states and actions\n",
    "print(\"observation space: \", env.observation_space,\n",
    "      \"\\nobservations:\", env.reset()[0])\n",
    "print(\"action space: \", env.action_space,\n",
    "      \"\\naction_sample: \", env.action_space.sample())"
   ]
  },
  {
   "cell_type": "code",
   "execution_count": 5,
   "metadata": {
    "execution": {
     "iopub.execute_input": "2024-05-04T15:40:40.539001Z",
     "iopub.status.busy": "2024-05-04T15:40:40.538329Z",
     "iopub.status.idle": "2024-05-04T15:40:41.994941Z",
     "shell.execute_reply": "2024-05-04T15:40:41.994034Z",
     "shell.execute_reply.started": "2024-05-04T15:40:40.538960Z"
    },
    "tags": []
   },
   "outputs": [
    {
     "data": {
      "text/plain": [
       "<matplotlib.image.AxesImage at 0x7f2394cc5690>"
      ]
     },
     "execution_count": 5,
     "metadata": {},
     "output_type": "execute_result"
    },
    {
     "data": {
      "image/png": "[encoded data removed]",
      "text/plain": [
       "<Figure size 432x288 with 1 Axes>"
      ]
     },
     "metadata": {
      "needs_background": "light"
     },
     "output_type": "display_data"
    }
   ],
   "source": [
    "import matplotlib.pyplot as plt\n",
    "\n",
    "plt.imshow(env.render())"
   ]
  },
  {
   "cell_type": "markdown",
   "metadata": {},
   "source": [
    "Let's run random policy and see how it looks."
   ]
  },
  {
   "cell_type": "code",
   "execution_count": 6,
   "metadata": {
    "execution": {
     "iopub.execute_input": "2024-05-04T15:40:41.996612Z",
     "iopub.status.busy": "2024-05-04T15:40:41.995977Z",
     "iopub.status.idle": "2024-05-04T15:40:42.007289Z",
     "shell.execute_reply": "2024-05-04T15:40:42.006537Z",
     "shell.execute_reply.started": "2024-05-04T15:40:41.996578Z"
    },
    "tags": []
   },
   "outputs": [],
   "source": [
    "class RandomActor():\n",
    "    def get_action(self, states):\n",
    "        assert len(states.shape) == 1, \"can't work with batches\"\n",
    "        return env.action_space.sample()"
   ]
  },
  {
   "cell_type": "code",
   "execution_count": 7,
   "metadata": {
    "execution": {
     "iopub.execute_input": "2024-05-04T15:40:42.008686Z",
     "iopub.status.busy": "2024-05-04T15:40:42.008236Z",
     "iopub.status.idle": "2024-05-04T15:40:45.425830Z",
     "shell.execute_reply": "2024-05-04T15:40:45.425137Z",
     "shell.execute_reply.started": "2024-05-04T15:40:42.008656Z"
    },
    "tags": []
   },
   "outputs": [
    {
     "name": "stdout",
     "output_type": "stream",
     "text": [
      "<class 'numpy.ndarray'>\n",
      "done:  71\n",
      "done:  127\n",
      "done:  179\n",
      "done:  1179\n",
      "done:  1263\n",
      "done:  1362\n",
      "done:  1419\n",
      "done:  2419\n",
      "done:  2505\n",
      "done:  2564\n",
      "done:  3564\n",
      "done:  3697\n",
      "done:  3711\n",
      "done:  3744\n",
      "done:  3783\n",
      "done:  3839\n",
      "done:  4839\n",
      "done:  4933\n",
      "done:  5011\n",
      "done:  5029\n",
      "done:  5089\n",
      "done:  5129\n",
      "done:  5295\n",
      "done:  5327\n",
      "done:  5450\n",
      "done:  5470\n",
      "done:  5523\n",
      "done:  5533\n",
      "done:  6533\n",
      "done:  6664\n",
      "done:  6918\n",
      "done:  6954\n",
      "done:  6969\n",
      "done:  7010\n",
      "done:  7243\n",
      "done:  7279\n",
      "done:  7486\n",
      "done:  7500\n",
      "done:  7571\n",
      "done:  7671\n",
      "done:  7708\n",
      "done:  7764\n",
      "done:  7823\n",
      "done:  7855\n",
      "done:  8855\n",
      "done:  8887\n",
      "done:  9329\n"
     ]
    }
   ],
   "source": [
    "s, _ = env.reset()\n",
    "print(type(s))\n",
    "rewards_per_step = []\n",
    "actor = RandomActor()\n",
    "\n",
    "for i in range(10000):\n",
    "    a = actor.get_action(s)\n",
    "    s, r, terminated, truncated, _ = env.step(a)\n",
    "\n",
    "    rewards_per_step.append(r)\n",
    "\n",
    "    if terminated or truncated:\n",
    "        s, _ = env.reset()\n",
    "        print(\"done: \", i)"
   ]
  },
  {
   "cell_type": "markdown",
   "metadata": {},
   "source": [
    "So, basically most episodes are 1000 steps long (then happens termination by time), though sometimes we are terminated earlier if simulation discovers some obvious reasons to think that we crashed our ant. Important thing about continuous control tasks like this is that we receive non-trivial signal at each step: "
   ]
  },
  {
   "cell_type": "code",
   "execution_count": 8,
   "metadata": {
    "execution": {
     "iopub.execute_input": "2024-05-04T15:40:45.427816Z",
     "iopub.status.busy": "2024-05-04T15:40:45.427152Z",
     "iopub.status.idle": "2024-05-04T15:40:45.451299Z",
     "shell.execute_reply": "2024-05-04T15:40:45.450675Z",
     "shell.execute_reply.started": "2024-05-04T15:40:45.427784Z"
    },
    "tags": []
   },
   "outputs": [
    {
     "data": {
      "text/plain": [
       "[-0.49083759726420606,\n",
       " -0.7608205164936059,\n",
       " -0.6445857311991219,\n",
       " -0.4706255163791999,\n",
       " 0.03823467412046089,\n",
       " -0.8858030025231516,\n",
       " -0.46433131412614426,\n",
       " 0.03057993806241832,\n",
       " -0.42078044323393105,\n",
       " 0.6142648954503338]"
      ]
     },
     "execution_count": 8,
     "metadata": {},
     "output_type": "execute_result"
    }
   ],
   "source": [
    "rewards_per_step[100:110]"
   ]
  },
  {
   "cell_type": "markdown",
   "metadata": {},
   "source": [
    "This dense signal will guide our optimizations. It also partially explains why off-policy algorithms are more effective and sample-efficient than on-policy algorithms like PPO: 1-step targets are already quite informative."
   ]
  },
  {
   "cell_type": "code",
   "execution_count": 9,
   "metadata": {
    "execution": {
     "iopub.execute_input": "2024-05-04T15:40:45.452909Z",
     "iopub.status.busy": "2024-05-04T15:40:45.452199Z",
     "iopub.status.idle": "2024-05-04T15:40:45.484600Z",
     "shell.execute_reply": "2024-05-04T15:40:45.483937Z",
     "shell.execute_reply.started": "2024-05-04T15:40:45.452877Z"
    },
    "tags": []
   },
   "outputs": [],
   "source": [
    "env.close()"
   ]
  },
  {
   "cell_type": "markdown",
   "metadata": {},
   "source": [
    "We will add only one wrapper to our environment to simply write summaries, mainly, the total reward during an episode."
   ]
  },
  {
   "cell_type": "code",
   "execution_count": 6,
   "metadata": {
    "execution": {
     "iopub.execute_input": "2024-05-04T15:40:45.850247Z",
     "iopub.status.busy": "2024-05-04T15:40:45.849787Z",
     "iopub.status.idle": "2024-05-04T15:40:52.279620Z",
     "shell.execute_reply": "2024-05-04T15:40:52.279002Z",
     "shell.execute_reply.started": "2024-05-04T15:40:45.850210Z"
    },
    "tags": []
   },
   "outputs": [],
   "source": [
    "from logger import TensorboardSummaries as Summaries\n",
    "\n",
    "env = gym.make(\"Ant-v4\", render_mode=\"rgb_array\")\n",
    "env = Summaries(env, \"MyFirstWalkingAnt\");\n",
    "\n",
    "state_dim = env.observation_space.shape[0]  # dimension of state space (27 numbers)\n",
    "action_dim = env.action_space.shape[0]      # dimension of action space (8 numbers)"
   ]
  },
  {
   "cell_type": "markdown",
   "metadata": {},
   "source": [
    "## Models"
   ]
  },
  {
   "cell_type": "markdown",
   "metadata": {},
   "source": [
    "Let's start with *critic* model. On the one hand, it will function as an approximation of $Q^*(s, a)$, on the other hand it evaluates current actor $\\pi$ and can be viewed as $Q^{\\pi}(s, a)$. This critic will take both state $s$ and action $a$ as input and output a scalar value. Recommended architecture is 3-layered MLP.\n",
    "\n",
    "**Danger:** when models have a scalar output it is a good rule to squeeze it to avoid unexpected broadcasting, since [batch_size, 1] broadcasts with many tensor sizes."
   ]
  },
  {
   "cell_type": "code",
   "execution_count": 2,
   "metadata": {
    "execution": {
     "iopub.execute_input": "2024-05-04T15:40:52.281607Z",
     "iopub.status.busy": "2024-05-04T15:40:52.280835Z",
     "iopub.status.idle": "2024-05-04T15:40:52.358306Z",
     "shell.execute_reply": "2024-05-04T15:40:52.357687Z",
     "shell.execute_reply.started": "2024-05-04T15:40:52.281573Z"
    },
    "tags": []
   },
   "outputs": [],
   "source": [
    "import torch\n",
    "import torch.nn as nn\n",
    "DEVICE = \"cuda\" if torch.cuda.is_available() else \"cpu\"\n",
    "\n",
    "class Critic(nn.Module):\n",
    "    def __init__(self, state_dim, action_dim):\n",
    "        super().__init__()        \n",
    "\n",
    "        self._layers = nn.Sequential(\n",
    "            nn.Linear(state_dim + action_dim, 256),\n",
    "            nn.ReLU(),\n",
    "            nn.Linear(256, 256),\n",
    "            nn.ReLU(),\n",
    "            nn.Linear(256, 1),\n",
    "        )\n",
    "\n",
    "    def get_qvalues(self, states, actions):\n",
    "        '''\n",
    "        input:\n",
    "            states - tensor, (batch_size x features)\n",
    "            actions - tensor, (batch_size x actions_dim)\n",
    "        output:\n",
    "            qvalues - tensor, critic estimation, (batch_size)\n",
    "        '''\n",
    "        qvalues = self._layers(torch.cat([states, actions], dim=-1)).squeeze()\n",
    "\n",
    "        assert len(qvalues.shape) == 1 and qvalues.shape[0] == states.shape[0]\n",
    "        \n",
    "        return qvalues"
   ]
  },
  {
   "cell_type": "markdown",
   "metadata": {},
   "source": [
    "Next, let's define a policy, or an actor $\\pi$. Use architecture, similar to critic (3-layered MLP). The output depends on algorithm:\n",
    "\n",
    "For **TD3**, model *deterministic policy*. You should output `action_dim` numbers in range $[-1, 1]$. Unfortunately, deterministic policies lead to problems with stability and exploration, so we will need three \"modes\" of how this policy can be operating:\n",
    "* First one - greedy - is a simple feedforward pass through network that will be used to train the actor.\n",
    "* Second one - exploration mode - is when we need to add noise (e.g. Gaussian) to our actions to collect more diverse data. \n",
    "* Third mode - \"clipped noised\" - will be used when we will require a target for critic, where we need to somehow \"noise\" our actor output, but not too much, so we add *clipped noise* to our output:\n",
    "$$\\pi_{\\theta}(s) + \\varepsilon, \\quad \\varepsilon = \\operatorname{clip}(\\epsilon, -0.5, 0.5), \\epsilon \\sim \\mathcal{N}(0, \\sigma^2 I)$$"
   ]
  },
  {
   "cell_type": "code",
   "execution_count": 12,
   "metadata": {
    "ExecuteTime": {
     "end_time": "2020-09-16T18:41:06.246418Z",
     "start_time": "2020-09-16T18:41:05.841255Z"
    },
    "execution": {
     "iopub.execute_input": "2024-05-04T15:40:52.360141Z",
     "iopub.status.busy": "2024-05-04T15:40:52.359680Z",
     "iopub.status.idle": "2024-05-04T15:40:52.373089Z",
     "shell.execute_reply": "2024-05-04T15:40:52.372532Z",
     "shell.execute_reply.started": "2024-05-04T15:40:52.360107Z"
    },
    "tags": []
   },
   "outputs": [],
   "source": [
    "# template for TD3; template for SAC is below\n",
    "class TD3_Actor(nn.Module):\n",
    "    def __init__(self, state_dim, action_dim):\n",
    "        super().__init__()        \n",
    "\n",
    "        raise NotImplementedError\n",
    "\n",
    "    def get_action(self, states, std_noise=0.1):\n",
    "        '''\n",
    "        Used to collect data by interacting with environment,\n",
    "        so your have to add some noise to actions.\n",
    "        input:\n",
    "            states - numpy, (batch_size x features)\n",
    "        output:\n",
    "            actions - numpy, (batch_size x actions_dim)\n",
    "        '''\n",
    "        # no gradient computation is required here since we will use this only for interaction\n",
    "        with torch.no_grad():\n",
    "            # actions = <YOUR CODE>\n",
    "            raise NotImplementedError\n",
    "\n",
    "            assert isinstance(actions, (list,np.ndarray)), \"convert actions to numpy to send into env\"\n",
    "            assert actions.max() <= 1. and actions.min() >= -1, \"actions must be in the range [-1, 1]\"\n",
    "            return actions\n",
    "    \n",
    "    def get_best_action(self, states):\n",
    "        '''\n",
    "        Will be used to optimize actor. Requires differentiable w.r.t. parameters actions.\n",
    "        input:\n",
    "            states - PyTorch tensor, (batch_size x features)\n",
    "        output:\n",
    "            actions - PyTorch tensor, (batch_size x actions_dim)\n",
    "        '''\n",
    "        # actions = <YOUR CODE>\n",
    "        raise NotImplementedError\n",
    "    \n",
    "        assert actions.requires_grad, \"you must be able to compute gradients through actions\"\n",
    "        return actions\n",
    "    \n",
    "    def get_target_action(self, states, std_noise=0.2, clip_eta=0.5):\n",
    "        '''\n",
    "        Will be used to create target for critic optimization.\n",
    "        Returns actions with added \"clipped noise\".\n",
    "        input:\n",
    "            states - PyTorch tensor, (batch_size x features)\n",
    "        output:\n",
    "            actions - PyTorch tensor, (batch_size x actions_dim)\n",
    "        '''\n",
    "        # no gradient computation is required here since we will use this only for interaction\n",
    "        with torch.no_grad():\n",
    "            # actions = <YOUR CODE>\n",
    "            raise NotImplementedError\n",
    "        \n",
    "            # actions can fly out of [-1, 1] range after added noise\n",
    "            return actions.clamp(-1, 1)"
   ]
  },
  {
   "cell_type": "markdown",
   "metadata": {},
   "source": [
    "For **SAC**, model *gaussian policy*. This means policy distribution is going to be multivariate normal with diagonal covariance. The policy head will predict the mean and covariance, and it should be guaranteed that covariance is non-negative. **Important:** the way you model covariance strongly influences optimization procedure, so here are some options: let $f_{\\theta}$ be the output of covariance head, then:\n",
    "* use exponential function $\\sigma(s) = \\exp(f_{\\theta}(s))$\n",
    "* transform output to $[-1, 1]$ using `tanh`, then project output to some interval $[m, M]$, where $m = -20$, $M = 2$ and then use exponential function. This will guarantee the range of modeled covariance is adequate. So, the resulting formula is:\n",
    "$$\\sigma(s) = \\exp^{m + 0.5(M - m)(\\tanh(f_{\\theta}(s)) + 1)}$$\n",
    "* `softplus` operation $\\sigma(s) = \\log(1 + \\exp^{f_{\\theta}(s)})$ seems to work poorly here. o_O\n",
    "\n",
    "**Note**: `torch.distributions.Normal` already has everything you will need to work with such policy after you modeled mean and covariance, i.e. sampling via reparametrization trick (see `rsample` method) and compute log probability (see `log_prob` method).\n",
    "\n",
    "There is one more problem with gaussian distribution. We need to force our actions to be in $[-1, 1]$ bound. To achieve this, model unbounded gaussian $\\mathcal{N}(\\mu_{\\theta}(s), \\sigma_{\\theta}(s)^2I)$, where $\\mu$ can be arbitrary. Then every time you have samples $u$ from this gaussian policy, squash it using $\\operatorname{tanh}$ function to get a sample from $[-1, 1]$:\n",
    "$$u \\sim \\mathcal{N}(\\mu, \\sigma^2I)$$\n",
    "$$a = \\operatorname{tanh}(u)$$\n",
    "\n",
    "**Important:** after that you are required to use change of variable formula every time you compute likelihood (see appendix C in [paper on SAC](https://arxiv.org/pdf/1801.01290.pdf) for details):\n",
    "$$\\log p(a \\mid \\mu, \\sigma) = \\log p(u \\mid \\mu, \\sigma) - \\sum_{i = 1}^D \\log (1 - \\operatorname{tanh}^2(u_i)),$$\n",
    "where $D$ is `action_dim`. In practice, add something like 1e-6 inside logarithm to protect from computational instabilities."
   ]
  },
  {
   "cell_type": "code",
   "execution_count": 3,
   "metadata": {
    "ExecuteTime": {
     "end_time": "2020-09-16T18:41:06.246418Z",
     "start_time": "2020-09-16T18:41:05.841255Z"
    },
    "execution": {
     "iopub.execute_input": "2024-05-04T15:40:52.374549Z",
     "iopub.status.busy": "2024-05-04T15:40:52.374108Z",
     "iopub.status.idle": "2024-05-04T15:40:52.393629Z",
     "shell.execute_reply": "2024-05-04T15:40:52.393003Z",
     "shell.execute_reply.started": "2024-05-04T15:40:52.374520Z"
    },
    "tags": []
   },
   "outputs": [],
   "source": [
    "# template for SAC\n",
    "from torch.distributions import Normal\n",
    "\n",
    "class SAC_Actor(nn.Module):\n",
    "    def __init__(self, state_dim, action_dim):\n",
    "        super().__init__()        \n",
    "\n",
    "        self._std_lb = -20\n",
    "        self._std_ub = 2\n",
    "\n",
    "        self._backbone = nn.Sequential(\n",
    "            nn.Linear(state_dim, 256),\n",
    "            nn.ReLU(),\n",
    "            nn.Linear(256, 256),\n",
    "            nn.ReLU(),\n",
    "        )\n",
    "\n",
    "        self._mean_head = nn.Sequential(\n",
    "            nn.Linear(256, action_dim),\n",
    "        )\n",
    "        self._std_head =  nn.Sequential(\n",
    "            nn.Linear(256, action_dim),\n",
    "            nn.Tanh(),\n",
    "        )\n",
    "    \n",
    "    def _action_mean(self, states):\n",
    "        return self._mean_head(self._backbone(states))\n",
    "\n",
    "    def _action_std(self, states):\n",
    "        return self._scale_std(self._std_head(self._backbone(states)))\n",
    "\n",
    "    def _scale_std(self, std):\n",
    "        return torch.exp(self._std_lb + 0.5 * (self._std_ub - self._std_lb) * (std + 1))\n",
    "\n",
    "    def _action_dist(self, states):\n",
    "        mean = self._action_mean(states)\n",
    "        std = self._action_std(states)\n",
    "        return Normal(mean, std)\n",
    "\n",
    "    @staticmethod\n",
    "    def _change_of_variables_log_prob_additive_correction(sample):\n",
    "        return torch.negative(torch.log(1 - torch.square(torch.tanh(sample)) + 1e-6))\n",
    "\n",
    "    def apply(self, states):\n",
    "        '''\n",
    "        For given batch of states samples actions and also returns its log prob.\n",
    "        input:\n",
    "            states - PyTorch tensor, (batch_size x features)\n",
    "        output:\n",
    "            actions - PyTorch tensor, (batch_size x action_dim)\n",
    "            log_prob - PyTorch tensor, (batch_size)\n",
    "        '''\n",
    "\n",
    "        dist = self._action_dist(states)\n",
    "        u = dist.rsample()\n",
    "        actions = torch.tanh(u)\n",
    "        log_prob = torch.sum(dist.log_prob(u) + self._change_of_variables_log_prob_additive_correction(u), dim=-1)\n",
    "        \n",
    "        return actions, log_prob  \n",
    "\n",
    "    def get_action(self, states):\n",
    "        '''\n",
    "        Used to interact with environment by sampling actions from policy\n",
    "        input:\n",
    "            states - numpy, (batch_size x features)\n",
    "        output:\n",
    "            actions - numpy, (batch_size x actions_dim)\n",
    "        '''\n",
    "        # no gradient computation is required here since we will use this only for interaction\n",
    "        with torch.no_grad():\n",
    "            \n",
    "            # hint: you can use `apply` method here\n",
    "            actions = self.apply(torch.from_numpy(states).float().to(DEVICE))[0].numpy(force=True)\n",
    "            \n",
    "            assert isinstance(actions, (list,np.ndarray)), \"convert actions to numpy to send into env\"\n",
    "            assert actions.max() <= 1. and actions.min() >= -1, \"actions must be in the range [-1, 1]\"\n",
    "            return actions"
   ]
  },
  {
   "cell_type": "markdown",
   "metadata": {},
   "source": [
    "## ReplayBuffer\n",
    "\n",
    "The same as in DQN. You can copy code from your DQN assignment, just check that it works fine with continuous actions (probably it is). \n",
    "\n",
    "Let's recall the interface:\n",
    "* `exp_replay.add(obs, act, rw, next_obs, done)` - saves (s,a,r,s',done) tuple into the buffer\n",
    "* `exp_replay.sample(batch_size)` - returns observations, actions, rewards, next_observations and is_done for `batch_size` random samples.\n",
    "* `len(exp_replay)` - returns number of elements stored in replay buffer."
   ]
  },
  {
   "cell_type": "code",
   "execution_count": 14,
   "metadata": {
    "execution": {
     "iopub.execute_input": "2024-05-04T15:40:52.396394Z",
     "iopub.status.busy": "2024-05-04T15:40:52.395420Z",
     "iopub.status.idle": "2024-05-04T15:40:52.417804Z",
     "shell.execute_reply": "2024-05-04T15:40:52.417263Z",
     "shell.execute_reply.started": "2024-05-04T15:40:52.396359Z"
    },
    "tags": []
   },
   "outputs": [],
   "source": [
    "class ReplayBuffer():\n",
    "    def __init__(self, size):\n",
    "        \"\"\"\n",
    "        Create Replay buffer.\n",
    "        Parameters\n",
    "        ----------\n",
    "        size: int\n",
    "            Max number of transitions to store in the buffer. When the buffer\n",
    "            overflows the old memories are dropped.\n",
    "\n",
    "        Note: for this assignment you can pick any data structure you want.\n",
    "              If you want to keep it simple, you can store a list of tuples of (s, a, r, s') in self._storage\n",
    "              However you may find out there are faster and/or more memory-efficient ways to do so.\n",
    "        \"\"\"\n",
    "        self._storage = []\n",
    "        self._maxsize = size\n",
    "        self._next_idx = 0\n",
    "\n",
    "        # OPTIONAL: YOUR CODE\n",
    "\n",
    "    def __len__(self):\n",
    "        return len(self._storage)\n",
    "\n",
    "    def add(self, obs_t, action, reward, obs_tp1, done):\n",
    "        '''\n",
    "        Make sure, _storage will not exceed _maxsize. \n",
    "        Make sure, FIFO rule is being followed: the oldest examples has to be removed earlier\n",
    "        '''        \n",
    "        data = (obs_t, action, reward, obs_tp1, done)\n",
    "        \n",
    "        if self._next_idx >= len(self._storage):\n",
    "            self._storage.append(data)\n",
    "        else:\n",
    "            self._storage[self._next_idx] = data\n",
    "        self._next_idx = (self._next_idx + 1) % self._maxsize\n",
    "\n",
    "    def sample(self, batch_size):\n",
    "        \"\"\"Sample a batch of experiences.\n",
    "        Parameters\n",
    "        ----------\n",
    "        batch_size: int\n",
    "            How many transitions to sample.\n",
    "        Returns\n",
    "        -------\n",
    "        obs_batch: np.array\n",
    "            batch of observations\n",
    "        act_batch: np.array\n",
    "            batch of actions executed given obs_batch\n",
    "        rew_batch: np.array\n",
    "            rewards received as results of executing act_batch\n",
    "        next_obs_batch: np.array\n",
    "            next set of observations seen after executing act_batch\n",
    "        done_mask: np.array\n",
    "            done_mask[i] = 1 if executing act_batch[i] resulted in\n",
    "            the end of an episode and 0 otherwise.\n",
    "        \"\"\"\n",
    "\n",
    "        idxes = np.random.choice(len(self._storage), size=batch_size)\n",
    "            # randomly generate batch_size integers\n",
    "            # to be used as indexes of samples\n",
    "            \n",
    "        states, actions, rewards, next_states, dones = [], [], [], [], [] \n",
    "        for idx in idxes:\n",
    "            st, act, rew, next_st, don = self._storage[idx]\n",
    "            states.append(np.array(st, copy=False))\n",
    "            actions.append(np.array(act, copy=False))\n",
    "            rewards.append(rew)\n",
    "            next_states.append(np.array(next_st, copy=False))\n",
    "            dones.append(don)\n",
    "            # collect <s,a,r,s',done> for each index\n",
    "        \n",
    "        return (\n",
    "            np.array(states),\n",
    "            np.array(actions),\n",
    "            np.array(rewards),\n",
    "            np.array(next_states),\n",
    "            np.array(dones)\n",
    "        )\n",
    "            # <states>, <actions>, <rewards>, <next_states>, <is_done>"
   ]
  },
  {
   "cell_type": "code",
   "execution_count": 15,
   "metadata": {
    "execution": {
     "iopub.execute_input": "2024-05-04T15:40:52.419130Z",
     "iopub.status.busy": "2024-05-04T15:40:52.418430Z",
     "iopub.status.idle": "2024-05-04T15:40:52.433926Z",
     "shell.execute_reply": "2024-05-04T15:40:52.433293Z",
     "shell.execute_reply.started": "2024-05-04T15:40:52.419098Z"
    },
    "tags": []
   },
   "outputs": [],
   "source": [
    "exp_replay = ReplayBuffer(10)\n",
    "\n",
    "for _ in range(30):\n",
    "    exp_replay.add(env.reset()[0], env.action_space.sample(),\n",
    "                   1.0, env.reset()[0], done=False)\n",
    "\n",
    "obs_batch, act_batch, reward_batch, next_obs_batch, is_done_batch = exp_replay.sample(\n",
    "    5)\n",
    "\n",
    "assert len(exp_replay) == 10, \"experience replay size should be 10 because that's what maximum capacity is\""
   ]
  },
  {
   "cell_type": "code",
   "execution_count": 16,
   "metadata": {
    "execution": {
     "iopub.execute_input": "2024-05-04T15:40:52.435545Z",
     "iopub.status.busy": "2024-05-04T15:40:52.434731Z",
     "iopub.status.idle": "2024-05-04T15:40:52.445971Z",
     "shell.execute_reply": "2024-05-04T15:40:52.445348Z",
     "shell.execute_reply.started": "2024-05-04T15:40:52.435514Z"
    },
    "tags": []
   },
   "outputs": [],
   "source": [
    "def play_and_record(initial_state, agent, env, exp_replay, n_steps=1):\n",
    "    \"\"\"\n",
    "    Play the game for exactly n steps, record every (s,a,r,s', done) to replay buffer. \n",
    "    Whenever game ends, add record with done=True and reset the game.\n",
    "    It is guaranteed that env has done=False when passed to this function.\n",
    "\n",
    "    :returns: return sum of rewards over time and the state in which the env stays\n",
    "    \"\"\"\n",
    "    s = initial_state\n",
    "    #print(type(s))\n",
    "    sum_rewards = 0\n",
    "\n",
    "    # Play the game for n_steps as per instructions above\n",
    "    for t in range(n_steps):\n",
    "        #print(type(s))\n",
    "        # select action using policy with exploration\n",
    "        a = agent.get_action(s)\n",
    "        \n",
    "        ns, r, terminated, truncated, _ = env.step(a)\n",
    "\n",
    "        done = terminated or truncated\n",
    "        # exp_replay.add(s, a, r, ns, terminated) why?\n",
    "        exp_replay.add(s, a, r, ns, done)\n",
    "        \n",
    "        s = env.reset()[0] if done else ns\n",
    "        \n",
    "        sum_rewards += r        \n",
    "\n",
    "    return sum_rewards, s"
   ]
  },
  {
   "cell_type": "code",
   "execution_count": 17,
   "metadata": {
    "execution": {
     "iopub.execute_input": "2024-05-04T15:40:52.448392Z",
     "iopub.status.busy": "2024-05-04T15:40:52.447602Z",
     "iopub.status.idle": "2024-05-04T15:40:53.477843Z",
     "shell.execute_reply": "2024-05-04T15:40:53.477150Z",
     "shell.execute_reply.started": "2024-05-04T15:40:52.448346Z"
    },
    "tags": []
   },
   "outputs": [
    {
     "name": "stdout",
     "output_type": "stream",
     "text": [
      "Well done!\n"
     ]
    }
   ],
   "source": [
    "#testing your code.\n",
    "exp_replay = ReplayBuffer(2000)\n",
    "actor = SAC_Actor(state_dim, action_dim).to(DEVICE)\n",
    "\n",
    "state, _ = env.reset()\n",
    "play_and_record(state, actor, env, exp_replay, n_steps=1000)\n",
    "\n",
    "# if you're using your own experience replay buffer, some of those tests may need correction.\n",
    "# just make sure you know what your code does\n",
    "assert len(exp_replay) == 1000, \"play_and_record should have added exactly 1000 steps, \"\\\n",
    "                                 \"but instead added %i\" % len(exp_replay)\n",
    "is_dones = list(zip(*exp_replay._storage))[-1]\n",
    "\n",
    "for _ in range(100):\n",
    "    obs_batch, act_batch, reward_batch, next_obs_batch, is_done_batch = exp_replay.sample(\n",
    "        10)\n",
    "    assert obs_batch.shape == next_obs_batch.shape == (10,) + (state_dim,)\n",
    "    assert act_batch.shape == (\n",
    "        10, action_dim), \"actions batch should have shape (10, 8) but is instead %s\" % str(act_batch.shape)\n",
    "    assert reward_batch.shape == (\n",
    "        10,), \"rewards batch should have shape (10,) but is instead %s\" % str(reward_batch.shape)\n",
    "    assert is_done_batch.shape == (\n",
    "        10,), \"is_done batch should have shape (10,) but is instead %s\" % str(is_done_batch.shape)\n",
    "    assert [int(i) in (0, 1)\n",
    "            for i in is_dones], \"is_done should be strictly True or False\"\n",
    "\n",
    "print(\"Well done!\")"
   ]
  },
  {
   "cell_type": "markdown",
   "metadata": {},
   "source": [
    "## Initialization\n",
    "\n",
    "Let's start initializing our algorithm. Here is our hyperparameters:"
   ]
  },
  {
   "cell_type": "code",
   "execution_count": 18,
   "metadata": {
    "execution": {
     "iopub.execute_input": "2024-05-04T15:40:53.479475Z",
     "iopub.status.busy": "2024-05-04T15:40:53.479026Z",
     "iopub.status.idle": "2024-05-04T15:40:53.499233Z",
     "shell.execute_reply": "2024-05-04T15:40:53.498672Z",
     "shell.execute_reply.started": "2024-05-04T15:40:53.479441Z"
    },
    "tags": []
   },
   "outputs": [],
   "source": [
    "gamma=0.99                    # discount factor\n",
    "max_buffer_size = 10**5       # size of experience replay\n",
    "start_timesteps = 5000        # size of experience replay when start training\n",
    "timesteps_per_epoch=1         # steps in environment per step of network updates\n",
    "batch_size=128                # batch size for all optimizations\n",
    "max_grad_norm=10              # max grad norm for all optimizations\n",
    "tau=0.005                     # speed of updating target networks\n",
    "policy_update_freq=1          # frequency of actor update; vanilla choice is 2 for TD3 or 1 for SAC\n",
    "alpha=0.1                     # temperature for SAC\n",
    "\n",
    "# iterations passed\n",
    "n_iterations = 0"
   ]
  },
  {
   "cell_type": "markdown",
   "metadata": {},
   "source": [
    "Here is our experience replay:"
   ]
  },
  {
   "cell_type": "code",
   "execution_count": 19,
   "metadata": {
    "execution": {
     "iopub.execute_input": "2024-05-04T15:40:53.500823Z",
     "iopub.status.busy": "2024-05-04T15:40:53.500111Z",
     "iopub.status.idle": "2024-05-04T15:40:53.515495Z",
     "shell.execute_reply": "2024-05-04T15:40:53.514631Z",
     "shell.execute_reply.started": "2024-05-04T15:40:53.500791Z"
    },
    "tags": []
   },
   "outputs": [],
   "source": [
    "# experience replay\n",
    "exp_replay = ReplayBuffer(max_buffer_size)"
   ]
  },
  {
   "cell_type": "markdown",
   "metadata": {},
   "source": [
    "Here is our models: *two* critics and one actor."
   ]
  },
  {
   "cell_type": "code",
   "execution_count": 20,
   "metadata": {
    "execution": {
     "iopub.execute_input": "2024-05-04T15:40:53.518172Z",
     "iopub.status.busy": "2024-05-04T15:40:53.517200Z",
     "iopub.status.idle": "2024-05-04T15:40:53.532857Z",
     "shell.execute_reply": "2024-05-04T15:40:53.532317Z",
     "shell.execute_reply.started": "2024-05-04T15:40:53.518139Z"
    },
    "tags": []
   },
   "outputs": [],
   "source": [
    "# models to train\n",
    "actor = SAC_Actor(state_dim, action_dim).to(DEVICE)\n",
    "critic1 = Critic(state_dim, action_dim).to(DEVICE)\n",
    "critic2 = Critic(state_dim, action_dim).to(DEVICE)"
   ]
  },
  {
   "cell_type": "markdown",
   "metadata": {},
   "source": [
    "To stabilize training, we will require **target networks** - slow updating copies of our models. In **TD3**, both critics and actor have their copies, in **SAC** it is assumed that only critics require target copies while actor is always used fresh."
   ]
  },
  {
   "cell_type": "code",
   "execution_count": 21,
   "metadata": {
    "execution": {
     "iopub.execute_input": "2024-05-04T15:40:54.280215Z",
     "iopub.status.busy": "2024-05-04T15:40:54.279418Z",
     "iopub.status.idle": "2024-05-04T15:40:54.297227Z",
     "shell.execute_reply": "2024-05-04T15:40:54.296674Z",
     "shell.execute_reply.started": "2024-05-04T15:40:54.280174Z"
    },
    "tags": []
   },
   "outputs": [
    {
     "data": {
      "text/plain": [
       "<All keys matched successfully>"
      ]
     },
     "execution_count": 21,
     "metadata": {},
     "output_type": "execute_result"
    }
   ],
   "source": [
    "# target networks: slow-updated copies of actor and two critics\n",
    "target_critic1 = Critic(state_dim, action_dim).to(DEVICE)\n",
    "target_critic2 = Critic(state_dim, action_dim).to(DEVICE)\n",
    "#target_actor = TD3_Actor(state_dim, action_dim).to(DEVICE)  # comment this line if you chose SAC\n",
    "\n",
    "# initialize them as copies of original models\n",
    "target_critic1.load_state_dict(critic1.state_dict())\n",
    "target_critic2.load_state_dict(critic2.state_dict())\n",
    "#target_actor.load_state_dict(actor.state_dict())            # comment this line if you chose SAC "
   ]
  },
  {
   "cell_type": "markdown",
   "metadata": {},
   "source": [
    "In continuous control, target networks are usually updated using exponential smoothing:\n",
    "$$\\theta^{-} \\leftarrow \\tau \\theta + (1 - \\tau) \\theta^{-},$$\n",
    "where $\\theta^{-}$ are target network weights, $\\theta$ - fresh parameters, $\\tau$ - hyperparameter. This util function will do it:"
   ]
  },
  {
   "cell_type": "code",
   "execution_count": 22,
   "metadata": {
    "execution": {
     "iopub.execute_input": "2024-05-04T15:40:55.304368Z",
     "iopub.status.busy": "2024-05-04T15:40:55.303620Z",
     "iopub.status.idle": "2024-05-04T15:40:55.314662Z",
     "shell.execute_reply": "2024-05-04T15:40:55.313951Z",
     "shell.execute_reply.started": "2024-05-04T15:40:55.304328Z"
    },
    "tags": []
   },
   "outputs": [],
   "source": [
    "def update_target_networks(model, target_model):\n",
    "    for param, target_param in zip(model.parameters(), target_model.parameters()):\n",
    "          target_param.data.copy_(tau * param.data + (1 - tau) * target_param.data)"
   ]
  },
  {
   "cell_type": "markdown",
   "metadata": {},
   "source": [
    "Finally, we will have three optimization procedures to train our three models, so let's welcome our three Adams:"
   ]
  },
  {
   "cell_type": "code",
   "execution_count": 23,
   "metadata": {
    "execution": {
     "iopub.execute_input": "2024-05-04T15:40:56.082612Z",
     "iopub.status.busy": "2024-05-04T15:40:56.081789Z",
     "iopub.status.idle": "2024-05-04T15:40:56.094451Z",
     "shell.execute_reply": "2024-05-04T15:40:56.093787Z",
     "shell.execute_reply.started": "2024-05-04T15:40:56.082544Z"
    },
    "tags": []
   },
   "outputs": [],
   "source": [
    "# optimizers: for every model we have\n",
    "opt_actor = torch.optim.Adam(actor.parameters(), lr=3e-4)\n",
    "opt_critic1 = torch.optim.Adam(critic1.parameters(), lr=3e-4)\n",
    "opt_critic2 = torch.optim.Adam(critic2.parameters(), lr=3e-4)"
   ]
  },
  {
   "cell_type": "code",
   "execution_count": 24,
   "metadata": {
    "execution": {
     "iopub.execute_input": "2024-05-04T15:40:56.561058Z",
     "iopub.status.busy": "2024-05-04T15:40:56.560191Z",
     "iopub.status.idle": "2024-05-04T15:40:56.571188Z",
     "shell.execute_reply": "2024-05-04T15:40:56.570641Z",
     "shell.execute_reply.started": "2024-05-04T15:40:56.561017Z"
    },
    "tags": []
   },
   "outputs": [],
   "source": [
    "# just to avoid writing this code three times\n",
    "def optimize(name, model, optimizer, loss):\n",
    "    '''\n",
    "    Makes one step of SGD optimization, clips norm with max_grad_norm and \n",
    "    logs everything into tensorboard\n",
    "    '''\n",
    "    loss = loss.mean()\n",
    "    optimizer.zero_grad()\n",
    "    loss.backward()\n",
    "    grad_norm = nn.utils.clip_grad_norm_(model.parameters(), max_grad_norm)\n",
    "    optimizer.step()\n",
    "\n",
    "    # logging\n",
    "    env.writer.add_scalar(name, loss.item(), n_iterations)\n",
    "    env.writer.add_scalar(name + \"_grad_norm\", grad_norm.item(), n_iterations)"
   ]
  },
  {
   "cell_type": "markdown",
   "metadata": {},
   "source": [
    "## Critic target computation"
   ]
  },
  {
   "cell_type": "markdown",
   "metadata": {},
   "source": [
    "Finally, let's discuss our losses for critic and actor.\n",
    "\n",
    "To train both critics we would like to minimize MSE using 1-step targets: for one sampled transition $(s, a, r, s')$ it should look something like this:\n",
    "$$y(s, a) = r + \\gamma V(s').$$\n",
    "\n",
    "How do we evaluate next state and compute $V(s')$? Well, technically Monte-Carlo estimation looks simple:\n",
    "$$V(s') \\approx Q(s', a')$$\n",
    "where (important!) $a'$ is a sample from our current policy $\\pi(a' \\mid s')$.\n",
    "\n",
    "But our actor $\\pi$ will be actually trained to search for actions $a'$ where our critic gives big estimates, and this straightforward approach leads to serious overesimation issues. We require some hacks. First, we will use target networks for $Q$ (and **TD3** also uses target network for $\\pi$). Second, we will use *two* critics and take minimum across their estimations:\n",
    "$$V(s') = \\min_{i = 1,2} Q^{-}_i(s', a'),$$\n",
    "where $a'$ is sampled from target policy $\\pi^{-}(a' \\mid s')$ in **TD3** and from fresh policy $\\pi(a' \\mid s')$ in **SAC**.\n",
    "\n",
    "###### And the last but not the least:\n",
    "* in **TD3** to compute $a'$ use *mode with clipped noise* that will prevent our policy from exploiting narrow peaks in our critic approximation;\n",
    "* in **SAC** add (estimation of) entropy bonus in next state $s'$:\n",
    "$$V(s') = \\min_{i = 1,2} Q^{-}_i(s', a') - \\alpha \\log \\pi (a' \\mid s')$$"
   ]
  },
  {
   "cell_type": "code",
   "execution_count": 25,
   "metadata": {
    "execution": {
     "iopub.execute_input": "2024-05-04T15:40:57.900431Z",
     "iopub.status.busy": "2024-05-04T15:40:57.899709Z",
     "iopub.status.idle": "2024-05-04T15:40:57.915130Z",
     "shell.execute_reply": "2024-05-04T15:40:57.914505Z",
     "shell.execute_reply.started": "2024-05-04T15:40:57.900397Z"
    },
    "tags": []
   },
   "outputs": [],
   "source": [
    "def compute_critic_target(rewards, next_states, is_done):\n",
    "    '''\n",
    "    Important: use target networks for this method! Do not use \"fresh\" models except fresh policy in SAC!\n",
    "    input:\n",
    "        rewards - PyTorch tensor, (batch_size)\n",
    "        next_states - PyTorch tensor, (batch_size x features)\n",
    "        is_done - PyTorch tensor, (batch_size)\n",
    "    output:\n",
    "        critic target - PyTorch tensor, (batch_size)\n",
    "    '''\n",
    "    with torch.no_grad():\n",
    "        next_actions, next_log_probs = actor.apply(next_states)\n",
    "    \n",
    "        q1 = target_critic1.get_qvalues(next_states, next_actions)\n",
    "        q2 = target_critic2.get_qvalues(next_states, next_actions)\n",
    "        \n",
    "        v = torch.minimum(q1, q2) - alpha * next_log_probs\n",
    "\n",
    "        critic_target = rewards + torch.logical_not(is_done) * gamma * v \n",
    "    \n",
    "    assert not critic_target.requires_grad, \"target must not require grad.\"\n",
    "    assert len(critic_target.shape) == 1, \"dangerous extra dimension in target?\"\n",
    "\n",
    "    return critic_target"
   ]
  },
  {
   "cell_type": "markdown",
   "metadata": {},
   "source": [
    "To train actor we want simply to maximize\n",
    "$$\\mathbb{E}_{a \\sim \\pi(a \\mid s)} Q(s, a) \\to \\max_{\\pi}$$\n",
    "\n",
    "* in **TD3**, because of deterministic policy, the expectation reduces:\n",
    "$$Q(s, \\pi(s)) \\to \\max_{\\pi}$$\n",
    "* in **SAC**, use reparametrization trick to compute gradients and also do not forget to add entropy regularizer to motivate policy to be as stochastic as possible:\n",
    "$$\\mathbb{E}_{a \\sim \\pi(a \\mid s)} Q(s, a) - \\alpha \\log \\pi(a \\mid s) \\to \\max_{\\pi}$$\n",
    "\n",
    "**Note:** We will use (fresh) critic1 here as Q-functon to \"exploit\". You can also use both critics and again take minimum across their estimations (this is done in original implementation of **SAC** and not done in **TD3**), but this seems to be not of high importance."
   ]
  },
  {
   "cell_type": "code",
   "execution_count": 26,
   "metadata": {
    "execution": {
     "iopub.execute_input": "2024-05-04T15:40:59.264437Z",
     "iopub.status.busy": "2024-05-04T15:40:59.263744Z",
     "iopub.status.idle": "2024-05-04T15:40:59.279951Z",
     "shell.execute_reply": "2024-05-04T15:40:59.279382Z",
     "shell.execute_reply.started": "2024-05-04T15:40:59.264395Z"
    },
    "tags": []
   },
   "outputs": [],
   "source": [
    "def compute_actor_loss(states):\n",
    "    '''\n",
    "    Returns actor loss on batch of states\n",
    "    input:\n",
    "        states - PyTorch tensor, (batch_size x features)\n",
    "    output:\n",
    "        actor loss - PyTorch tensor, (batch_size)\n",
    "    '''\n",
    "    # make sure you have gradients w.r.t. actor parameters\n",
    "    actions, log_probs = actor.apply(states)\n",
    "    q_values = torch.minimum(critic1.get_qvalues(states, actions), critic2.get_qvalues(states, actions))\n",
    "    \n",
    "    assert actions.requires_grad, \"actions must be differentiable with respect to policy parameters\"\n",
    "    assert log_probs.requires_grad, \"log_probs must be differentiable with respect to policy parameters\"\n",
    "\n",
    "    # compute actor loss\n",
    "    actor_loss = torch.negative(q_values - alpha * log_probs) \n",
    "    return actor_loss"
   ]
  },
  {
   "cell_type": "markdown",
   "metadata": {},
   "source": [
    "# Pipeline"
   ]
  },
  {
   "cell_type": "markdown",
   "metadata": {},
   "source": [
    "Finally combining all together and launching our algorithm. Your goal is to reach at least 1000 average reward during evaluation after training in this ant environment (*since this is a new hometask, this threshold might be updated, so at least just see if your ant learned to walk in the rendered simulation*).\n",
    "\n",
    "* rewards should rise more or less steadily in this environment. There can be some drops due to instabilities of algorithm, but it should eventually start rising after 100K-200K iterations. If no progress in reward is observed after these first 100K-200K iterations, there is a bug.\n",
    "* gradient norm appears to be quite big for this task, it is ok if it reaches 100-200 (we handled it with clip_grad_norm). Consider everything exploded if it starts growing exponentially, then there is a bug."
   ]
  },
  {
   "cell_type": "code",
   "execution_count": 27,
   "metadata": {
    "execution": {
     "iopub.execute_input": "2024-05-04T15:41:00.949686Z",
     "iopub.status.busy": "2024-05-04T15:41:00.949013Z",
     "iopub.status.idle": "2024-05-04T15:41:01.004094Z",
     "shell.execute_reply": "2024-05-04T15:41:01.003468Z",
     "shell.execute_reply.started": "2024-05-04T15:41:00.949642Z"
    },
    "tags": []
   },
   "outputs": [],
   "source": [
    "seed = 73\n",
    "np.random.seed(seed)\n",
    "torch.manual_seed(seed);"
   ]
  },
  {
   "cell_type": "code",
   "execution_count": 28,
   "metadata": {
    "execution": {
     "iopub.execute_input": "2024-05-04T15:41:02.153517Z",
     "iopub.status.busy": "2024-05-04T15:41:02.152821Z",
     "iopub.status.idle": "2024-05-04T17:13:18.484211Z",
     "shell.execute_reply": "2024-05-04T17:13:18.483540Z",
     "shell.execute_reply.started": "2024-05-04T15:41:02.153485Z"
    },
    "tags": []
   },
   "outputs": [
    {
     "data": {
      "application/vnd.jupyter.widget-view+json": {
       "model_id": "f1ecc744a17b4eac9bdf5af7e9e52f64",
       "version_major": 2,
       "version_minor": 0
      },
      "text/plain": [
       "  0%|          | 0/500000 [00:00<?, ?it/s]"
      ]
     },
     "metadata": {},
     "output_type": "display_data"
    }
   ],
   "source": [
    "from tqdm.notebook import trange\n",
    "\n",
    "interaction_state, _ = env.reset(seed=seed)\n",
    "random_actor = RandomActor()\n",
    "\n",
    "n_iters = 500000\n",
    "for n_iterations in trange(0, n_iters, timesteps_per_epoch):\n",
    "    # if experience replay is small yet, no training happens\n",
    "    # we also collect data using random policy to collect more diverse starting data\n",
    "    if len(exp_replay) < start_timesteps:\n",
    "        _, interaction_state = play_and_record(interaction_state, random_actor, env, exp_replay, timesteps_per_epoch)\n",
    "        continue\n",
    "        \n",
    "    # perform a step in environment and store it in experience replay\n",
    "    _, interaction_state = play_and_record(interaction_state, actor, env, exp_replay, timesteps_per_epoch)\n",
    "        \n",
    "    # sample a batch from experience replay\n",
    "    states, actions, rewards, next_states, is_done = exp_replay.sample(batch_size)\n",
    "    \n",
    "    # move everything to PyTorch tensors\n",
    "    states = torch.tensor(states, device=DEVICE, dtype=torch.float)\n",
    "    actions = torch.tensor(actions, device=DEVICE, dtype=torch.float)\n",
    "    rewards = torch.tensor(rewards, device=DEVICE, dtype=torch.float)\n",
    "    next_states = torch.tensor(next_states, device=DEVICE, dtype=torch.float)\n",
    "    is_done = torch.tensor(\n",
    "        is_done.astype('float32'),\n",
    "        device=DEVICE,\n",
    "        dtype=torch.float\n",
    "    )\n",
    "    \n",
    "    # losses\n",
    "    critic_target = compute_critic_target(rewards, next_states, is_done)\n",
    "\n",
    "    critic1_loss = torch.square(critic1.get_qvalues(states, actions) - critic_target)\n",
    "    optimize(\"critic1\", critic1, opt_critic1, critic1_loss)\n",
    "\n",
    "    critic2_loss = torch.square(critic2.get_qvalues(states, actions) - critic_target)\n",
    "    optimize(\"critic2\", critic2, opt_critic2, critic2_loss)\n",
    "\n",
    "    # actor update is less frequent in TD3\n",
    "    if n_iterations % policy_update_freq == 0:\n",
    "        actor_loss = compute_actor_loss(states)\n",
    "        optimize(\"actor\", actor, opt_actor, actor_loss)\n",
    "\n",
    "        # update target networks\n",
    "        update_target_networks(critic1, target_critic1)\n",
    "        update_target_networks(critic2, target_critic2)\n",
    "        #update_target_networks(actor, target_actor)                     # comment this line if you chose SAC"
   ]
  },
  {
   "cell_type": "code",
   "execution_count": 33,
   "metadata": {
    "execution": {
     "iopub.execute_input": "2024-05-04T17:36:50.831608Z",
     "iopub.status.busy": "2024-05-04T17:36:50.830898Z",
     "iopub.status.idle": "2024-05-04T17:36:50.858837Z",
     "shell.execute_reply": "2024-05-04T17:36:50.858216Z",
     "shell.execute_reply.started": "2024-05-04T17:36:50.831569Z"
    },
    "tags": []
   },
   "outputs": [
    {
     "name": "stderr",
     "output_type": "stream",
     "text": [
      "/kernel/lib/python3.10/site-packages/ipykernel/ipkernel.py:283: DeprecationWarning: `should_run_async` will not call `transform_cell` automatically in the future. Please pass the result to `transformed_cell` argument and any exception that happen during thetransform in `preprocessing_exc_tuple` in IPython 7.17 and above.\n",
      "  and should_run_async(code)\n"
     ]
    }
   ],
   "source": [
    "torch.save(actor.state_dict(), \"./models/SAC-actor\")\n",
    "torch.save(critic1.state_dict(), \"./models/SAC-critic1\")\n",
    "torch.save(critic2.state_dict(), \"./models/SAC-critic2\")\n",
    "torch.save(target_critic1.state_dict(), \"./models/SAC-target_critic1\")\n",
    "torch.save(target_critic2.state_dict(), \"./models/SAC-target_critic2\")"
   ]
  },
  {
   "cell_type": "markdown",
   "metadata": {},
   "source": [
    "## Evaluation"
   ]
  },
  {
   "cell_type": "code",
   "execution_count": 11,
   "metadata": {},
   "outputs": [
    {
     "data": {
      "text/plain": [
       "<All keys matched successfully>"
      ]
     },
     "execution_count": 11,
     "metadata": {},
     "output_type": "execute_result"
    }
   ],
   "source": [
    "actor = SAC_Actor(state_dim, action_dim).to(DEVICE)\n",
    "actor.load_state_dict(torch.load(\"./models/SAC-actor\"))"
   ]
  },
  {
   "cell_type": "code",
   "execution_count": 12,
   "metadata": {
    "ExecuteTime": {
     "end_time": "2020-09-16T18:41:47.560269Z",
     "start_time": "2020-09-16T18:41:47.546277Z"
    },
    "execution": {
     "iopub.execute_input": "2024-05-04T17:30:30.657486Z",
     "iopub.status.busy": "2024-05-04T17:30:30.656776Z",
     "iopub.status.idle": "2024-05-04T17:30:30.685096Z",
     "shell.execute_reply": "2024-05-04T17:30:30.684414Z",
     "shell.execute_reply.started": "2024-05-04T17:30:30.657439Z"
    },
    "tags": []
   },
   "outputs": [],
   "source": [
    "def evaluate(env, actor, n_games=1, t_max=1000):\n",
    "    '''\n",
    "    Plays n_games and returns rewards and rendered games\n",
    "    '''\n",
    "    rewards = []\n",
    "\n",
    "    for _ in range(n_games):\n",
    "        s, _ = env.reset()\n",
    "\n",
    "        R = 0\n",
    "        for _ in range(t_max):\n",
    "            # select action for final evaluation of your policy\n",
    "            action = actor.get_action(s)\n",
    "\n",
    "            assert (action.max() <= 1).all() and  (action.min() >= -1).all()\n",
    "\n",
    "            s, r, terminated, truncated, _ = env.step(action)\n",
    "\n",
    "            R += r\n",
    "\n",
    "            if terminated or truncated:\n",
    "                break\n",
    "\n",
    "        rewards.append(R)\n",
    "    return np.array(rewards)"
   ]
  },
  {
   "cell_type": "code",
   "execution_count": 13,
   "metadata": {
    "ExecuteTime": {
     "end_time": "2020-09-16T18:38:45.130920Z",
     "start_time": "2020-09-16T18:38:13.090472Z"
    },
    "execution": {
     "iopub.execute_input": "2024-05-04T17:30:35.105068Z",
     "iopub.status.busy": "2024-05-04T17:30:35.104276Z",
     "iopub.status.idle": "2024-05-04T17:30:47.724801Z",
     "shell.execute_reply": "2024-05-04T17:30:47.724145Z",
     "shell.execute_reply.started": "2024-05-04T17:30:35.105027Z"
    },
    "tags": []
   },
   "outputs": [
    {
     "name": "stdout",
     "output_type": "stream",
     "text": [
      "Your score: 2616.854995644722\n",
      "Well done!\n"
     ]
    }
   ],
   "source": [
    "# evaluation will take some time!\n",
    "sessions = evaluate(env, actor, n_games=20)\n",
    "score = sessions.mean()\n",
    "print(f\"Your score: {score}\")\n",
    "\n",
    "assert score >= 1000, \"Needs more training?\"\n",
    "print(\"Well done!\")"
   ]
  },
  {
   "cell_type": "code",
   "execution_count": 14,
   "metadata": {
    "execution": {
     "iopub.execute_input": "2024-05-04T17:31:06.841573Z",
     "iopub.status.busy": "2024-05-04T17:31:06.840898Z",
     "iopub.status.idle": "2024-05-04T17:31:06.850679Z",
     "shell.execute_reply": "2024-05-04T17:31:06.849915Z",
     "shell.execute_reply.started": "2024-05-04T17:31:06.841538Z"
    },
    "tags": []
   },
   "outputs": [],
   "source": [
    "env.close()"
   ]
  },
  {
   "cell_type": "markdown",
   "metadata": {},
   "source": [
    "## Record"
   ]
  },
  {
   "cell_type": "code",
   "execution_count": 17,
   "metadata": {
    "ExecuteTime": {
     "end_time": "2020-09-16T18:43:19.559507Z",
     "start_time": "2020-09-16T18:43:19.522533Z"
    },
    "execution": {
     "iopub.execute_input": "2024-05-04T17:31:14.686216Z",
     "iopub.status.busy": "2024-05-04T17:31:14.685531Z",
     "iopub.status.idle": "2024-05-04T17:31:24.521830Z",
     "shell.execute_reply": "2024-05-04T17:31:24.520380Z",
     "shell.execute_reply.started": "2024-05-04T17:31:14.686179Z"
    },
    "tags": []
   },
   "outputs": [
    {
     "name": "stdout",
     "output_type": "stream",
     "text": [
      "Moviepy - Building video /home/arqa/Documents/YSDA/RL/week09_policy_II/td3_and_sac/videos/rl-video-episode-0.mp4.\n",
      "Moviepy - Writing video /home/arqa/Documents/YSDA/RL/week09_policy_II/td3_and_sac/videos/rl-video-episode-0.mp4\n",
      "\n"
     ]
    },
    {
     "name": "stderr",
     "output_type": "stream",
     "text": [
      "                                                               \r"
     ]
    },
    {
     "name": "stdout",
     "output_type": "stream",
     "text": [
      "Moviepy - Done !\n",
      "Moviepy - video ready /home/arqa/Documents/YSDA/RL/week09_policy_II/td3_and_sac/videos/rl-video-episode-0.mp4\n"
     ]
    }
   ],
   "source": [
    "from gymnasium.wrappers import RecordVideo\n",
    "\n",
    "# let's hope this will work\n",
    "# don't forget to pray\n",
    "with gym.make(\"Ant-v4\", render_mode=\"rgb_array\") as env, RecordVideo(\n",
    "    env=env, video_folder=\"./videos\"\n",
    ") as env_monitor:\n",
    "    # note that t_max is 300, so collected reward will be smaller than 1000\n",
    "    evaluate(env_monitor, actor, n_games=1, t_max=300)"
   ]
  },
  {
   "cell_type": "code",
   "execution_count": 18,
   "metadata": {
    "tags": []
   },
   "outputs": [
    {
     "data": {
      "text/html": [
       "\n",
       "<video width=\"640\" height=\"480\" controls>\n",
       "  <source src=\"videos/rl-video-episode-0.mp4\" type=\"video/mp4\">\n",
       "</video>\n"
      ],
      "text/plain": [
       "<IPython.core.display.HTML object>"
      ]
     },
     "execution_count": 18,
     "metadata": {},
     "output_type": "execute_result"
    }
   ],
   "source": [
    "# Show video. This may not work in some setups. If it doesn't\n",
    "# work for you, you can download the videos and view them locally.\n",
    "\n",
    "from pathlib import Path\n",
    "from base64 import b64encode\n",
    "from IPython.display import HTML\n",
    "import sys\n",
    "\n",
    "video_paths = sorted([s for s in Path('videos').iterdir() if s.suffix == '.mp4'])\n",
    "video_path = video_paths[-1]  # You can also try other indices\n",
    "\n",
    "if 'google.colab' in sys.modules:\n",
    "    # https://stackoverflow.com/a/57378660/1214547\n",
    "    with video_path.open('rb') as fp:\n",
    "        mp4 = fp.read()\n",
    "    data_url = 'data:video/mp4;base64,' + b64encode(mp4).decode()\n",
    "else:\n",
    "    data_url = str(video_path)\n",
    "\n",
    "HTML(\"\"\"\n",
    "<video width=\"640\" height=\"480\" controls>\n",
    "  <source src=\"{}\" type=\"video/mp4\">\n",
    "</video>\n",
    "\"\"\".format(data_url))"
   ]
  },
  {
   "cell_type": "markdown",
   "metadata": {},
   "source": [
    "### Report\n",
    "\n",
    "We'd like to collect some statistics about computational resources you spent on this task. Please, report:\n",
    "* which GPU or CPU you used: I did the work in datasphere, hence tried several settings. Turned out that the fastest one is 4vCPU) 8vCPU works slightly worse, 32vCPU almost does not work at all, and even T4 GPU works slower than 4vCPU. I guess the bottleneck is the slow pythonic, single-threaded replay buffer and the learning rate would not improve untill a more efficient implementation is provided. Anyway, this may be not an urgent issue as it learns not that bad after all.\n",
    "* number of iterations you used for training: 500k\n",
    "* wall-clock time spent (on computation =D): 1.5h"
   ]
  }
 ],
 "metadata": {
  "kernelspec": {
   "display_name": "DataSphere Kernel",
   "language": "python",
   "name": "python3"
  },
  "language_info": {
   "codemirror_mode": {
    "name": "ipython",
    "version": 3
   },
   "file_extension": ".py",
   "mimetype": "text/x-python",
   "name": "python",
   "nbconvert_exporter": "python",
   "pygments_lexer": "ipython3",
   "version": "3.9.18"
  }
 },
 "nbformat": 4,
 "nbformat_minor": 4
}
